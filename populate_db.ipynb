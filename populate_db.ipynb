{
 "cells": [
  {
   "cell_type": "code",
   "execution_count": 0,
   "metadata": {
    "application/vnd.databricks.v1+cell": {
     "cellMetadata": {
      "byteLimit": 2048000,
      "implicitDf": true,
      "rowLimit": 10000
     },
     "inputWidgets": {},
     "nuid": "835d429c-a379-4e4a-9e30-51dd653862d7",
     "showTitle": false,
     "tableResultSettingsMap": {},
     "title": ""
    }
   },
   "outputs": [
    {
     "output_type": "display_data",
     "data": {
      "text/html": [
       "<style scoped>\n",
       "  .table-result-container {\n",
       "    max-height: 300px;\n",
       "    overflow: auto;\n",
       "  }\n",
       "  table, th, td {\n",
       "    border: 1px solid black;\n",
       "    border-collapse: collapse;\n",
       "  }\n",
       "  th, td {\n",
       "    padding: 5px;\n",
       "  }\n",
       "  th {\n",
       "    text-align: left;\n",
       "  }\n",
       "</style><div class='table-result-container'><table class='table-result'><thead style='background-color: white'><tr><th>num_affected_rows</th><th>num_inserted_rows</th></tr></thead><tbody><tr><td>28</td><td>28</td></tr></tbody></table></div>"
      ]
     },
     "metadata": {
      "application/vnd.databricks.v1+output": {
       "addedWidgets": {},
       "aggData": [],
       "aggError": "",
       "aggOverflow": false,
       "aggSchema": [],
       "aggSeriesLimitReached": false,
       "aggType": "",
       "arguments": {},
       "columnCustomDisplayInfos": {},
       "data": [
        [
         28,
         28
        ]
       ],
       "datasetInfos": [
        {
         "name": "_sqldf",
         "schema": {
          "fields": [
           {
            "metadata": {},
            "name": "num_affected_rows",
            "nullable": true,
            "type": "long"
           },
           {
            "metadata": {},
            "name": "num_inserted_rows",
            "nullable": true,
            "type": "long"
           }
          ],
          "type": "struct"
         },
         "tableIdentifier": null,
         "typeStr": "pyspark.sql.connect.dataframe.DataFrame"
        }
       ],
       "dbfsResultPath": null,
       "isJsonSchema": true,
       "metadata": {
        "createTempViewForImplicitDf": true,
        "dataframeName": "_sqldf",
        "executionCount": 22
       },
       "overflow": false,
       "plotOptions": {
        "customPlotOptions": {},
        "displayType": "table",
        "pivotAggregation": null,
        "pivotColumns": null,
        "xColumns": null,
        "yColumns": null
       },
       "removedWidgets": [],
       "schema": [
        {
         "metadata": "{}",
         "name": "num_affected_rows",
         "type": "\"long\""
        },
        {
         "metadata": "{}",
         "name": "num_inserted_rows",
         "type": "\"long\""
        }
       ],
       "type": "table"
      }
     },
     "output_type": "display_data"
    }
   ],
   "source": [
    "%sql\n",
    "\n",
    "USE my_league_db;\n",
    "\n",
    "-- 1. Insert sample addresses\n",
    "INSERT INTO Address VALUES\n",
    "  (1, '123 Main St', 'Provo', 'UT', '84601'),\n",
    "  (2, '456 Center St', 'Orem', 'UT', '84057'),\n",
    "  (3, '789 State St', 'Lehi', 'UT', '84043');\n",
    "\n",
    "-- 2. Insert sample venues, each referencing an address\n",
    "INSERT INTO Venue VALUES\n",
    "  (1, 'Stadium A', 1, 1),\n",
    "  (2, 'Stadium B', 2, 1),\n",
    "  (3, 'Stadium C', 3, 1);\n",
    "\n",
    "-- 3. Insert 3 divisions\n",
    "INSERT INTO Division VALUES\n",
    "  (1, 'Division A'),\n",
    "  (2, 'Division B'),\n",
    "  (3, 'Division C');\n",
    "\n",
    "-- 4. Insert 24 teams (8 per division)\n",
    "INSERT INTO Team VALUES\n",
    "  (1, 'Team 1', 1), (2, 'Team 2', 1), (3, 'Team 3', 1), (4, 'Team 4', 1),\n",
    "  (5, 'Team 5', 1), (6, 'Team 6', 1), (7, 'Team 7', 1), (8, 'Team 8', 1),\n",
    "  (9, 'Team 9', 2), (10, 'Team 10', 2), (11, 'Team 11', 2), (12, 'Team 12', 2),\n",
    "  (13, 'Team 13', 2), (14, 'Team 14', 2), (15, 'Team 15', 2), (16, 'Team 16', 2),\n",
    "  (17, 'Team 17', 3), (18, 'Team 18', 3), (19, 'Team 19', 3), (20, 'Team 20', 3),\n",
    "  (21, 'Team 21', 3), (22, 'Team 22', 3), (23, 'Team 23', 3), (24, 'Team 24', 3);\n",
    "\n",
    "-- 5. Insert 405 people (360 players, 45 referees)\n",
    "-- Players: byuId 1000000-1000359\n",
    "INSERT INTO Person\n",
    "SELECT\n",
    "  1000000 + idx AS byuId,\n",
    "  CONCAT('Player', 1000000 + idx) AS firstName,\n",
    "  CONCAT('Last', 1000000 + idx) AS lastName,\n",
    "  CONCAT('player', 1000000 + idx, '@example.com') AS email,\n",
    "  CONCAT('555-01', LPAD(CAST(idx AS STRING), 4, '0')) AS phone\n",
    "FROM (\n",
    "  SELECT posexplode(sequence(0, 359)) AS (idx, val)\n",
    ");\n",
    "\n",
    "-- Referees: byuId 1000360-1000404\n",
    "INSERT INTO Person\n",
    "SELECT\n",
    "  1000360 + idx AS byuId,\n",
    "  CONCAT('Ref', 1000360 + idx) AS firstName,\n",
    "  CONCAT('Last', 1000360 + idx) AS lastName,\n",
    "  CONCAT('ref', 1000360 + idx, '@example.com') AS email,\n",
    "  CONCAT('555-02', LPAD(CAST(idx AS STRING), 4, '0')) AS phone\n",
    "FROM (\n",
    "  SELECT posexplode(sequence(0, 44)) AS (idx, val)\n",
    ");\n",
    "\n",
    "-- 6. Insert 360 players (15 per team)\n",
    "INSERT INTO Player\n",
    "SELECT\n",
    "  1 + idx AS playerId,\n",
    "  1000000 + idx AS byuId,\n",
    "  1 + CAST(idx / 15 AS INT) AS teamId\n",
    "FROM (\n",
    "  SELECT posexplode(sequence(0, 359)) AS (idx, val)\n",
    ");\n",
    "\n",
    "-- 7. Insert 45 referees (15 per division)\n",
    "INSERT INTO Referee\n",
    "SELECT\n",
    "  1 + idx AS refereeId,\n",
    "  1000360 + idx AS byuId\n",
    "FROM (\n",
    "  SELECT posexplode(sequence(0, 44)) AS (idx, val)\n",
    ");\n",
    "\n",
    "-- Division 1: Teams 1-8, Referees 1-15\n",
    "INSERT INTO Game\n",
    "SELECT\n",
    "  row_number() OVER (ORDER BY t1.teamId, t2.teamId) AS gameId,\n",
    "  1 AS divisionId,\n",
    "  t1.teamId AS homeTeamId,\n",
    "  t2.teamId AS awayTeamId,\n",
    "  date_add(timestamp('2024-07-01 18:00:00'), row_number() OVER (ORDER BY t1.teamId, t2.teamId)) AS dateTime,\n",
    "  1 AS venueId,\n",
    "  CAST(floor(rand() * 5) + 1 AS INT) AS homeTeamRating,\n",
    "  CAST(floor(rand() * 5) + 1 AS INT) AS awayTeamRating,\n",
    "  1 + (row_number() OVER (ORDER BY t1.teamId, t2.teamId) % 15) AS referee1Id,\n",
    "  1 + ((row_number() OVER (ORDER BY t1.teamId, t2.teamId) + 1) % 15) AS referee2Id\n",
    "FROM Team t1\n",
    "JOIN Team t2\n",
    "  ON t1.divisionId = 1 AND t2.divisionId = 1 AND t1.teamId < t2.teamId;\n",
    "\n",
    "  -- Division 2: Teams 9-16, Referees 16-30, Venue 2\n",
    "INSERT INTO Game\n",
    "SELECT\n",
    "  28 + row_number() OVER (ORDER BY t1.teamId, t2.teamId) AS gameId,\n",
    "  2 AS divisionId,\n",
    "  t1.teamId AS homeTeamId,\n",
    "  t2.teamId AS awayTeamId,\n",
    "  date_add(timestamp('2024-07-29 18:00:00'), row_number() OVER (ORDER BY t1.teamId, t2.teamId)) AS dateTime,\n",
    "  2 AS venueId,\n",
    "  CAST(floor(rand() * 5) + 1 AS INT) AS homeTeamRating,\n",
    "  CAST(floor(rand() * 5) + 1 AS INT) AS awayTeamRating,\n",
    "  16 + (row_number() OVER (ORDER BY t1.teamId, t2.teamId) % 15) AS referee1Id,\n",
    "  16 + ((row_number() OVER (ORDER BY t1.teamId, t2.teamId) + 1) % 15) AS referee2Id\n",
    "FROM Team t1\n",
    "JOIN Team t2\n",
    "  ON t1.divisionId = 2 AND t2.divisionId = 2 AND t1.teamId < t2.teamId;\n",
    "\n",
    "-- Division 3: Teams 17-24, Referees 31-45, Venue 3\n",
    "INSERT INTO Game\n",
    "SELECT\n",
    "  56 + row_number() OVER (ORDER BY t1.teamId, t2.teamId) AS gameId,\n",
    "  3 AS divisionId,\n",
    "  t1.teamId AS homeTeamId,\n",
    "  t2.teamId AS awayTeamId,\n",
    "  date_add(timestamp('2024-08-26 18:00:00'), row_number() OVER (ORDER BY t1.teamId, t2.teamId)) AS dateTime,\n",
    "  3 AS venueId,\n",
    "  CAST(floor(rand() * 5) + 1 AS INT) AS homeTeamRating,\n",
    "  CAST(floor(rand() * 5) + 1 AS INT) AS awayTeamRating,\n",
    "  31 + (row_number() OVER (ORDER BY t1.teamId, t2.teamId) % 15) AS referee1Id,\n",
    "  31 + ((row_number() OVER (ORDER BY t1.teamId, t2.teamId) + 1) % 15) AS referee2Id\n",
    "FROM Team t1\n",
    "JOIN Team t2\n",
    "  ON t1.divisionId = 3 AND t2.divisionId = 3 AND t1.teamId < t2.teamId;"
   ]
  }
 ],
 "metadata": {
  "application/vnd.databricks.v1+notebook": {
   "computePreferences": null,
   "dashboards": [],
   "environmentMetadata": {
    "base_environment": "",
    "environment_version": "3"
   },
   "inputWidgetPreferences": null,
   "language": "python",
   "notebookMetadata": {
    "mostRecentlyExecutedCommandWithImplicitDF": {
     "commandId": 5173276850240291,
     "dataframes": [
      "_sqldf"
     ]
    },
    "pythonIndentUnit": 4
   },
   "notebookName": "populate_db",
   "widgets": {}
  },
  "language_info": {
   "name": "python"
  }
 },
 "nbformat": 4,
 "nbformat_minor": 0
}