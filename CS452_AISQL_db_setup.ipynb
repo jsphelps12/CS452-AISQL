{
 "cells": [
  {
   "cell_type": "code",
   "execution_count": 0,
   "metadata": {
    "application/vnd.databricks.v1+cell": {
     "cellMetadata": {
      "byteLimit": 2048000,
      "implicitDf": true,
      "rowLimit": 10000
     },
     "inputWidgets": {},
     "nuid": "450b9dbd-3829-4ce3-8988-a9a79d68d143",
     "showTitle": false,
     "tableResultSettingsMap": {},
     "title": ""
    }
   },
   "outputs": [],
   "source": [
    "%sql\n",
    "\n",
    "DROP DATABASE IF EXISTS my_league_db CASCADE;\n",
    "\n",
    "CREATE DATABASE IF NOT EXISTS my_league_db;\n",
    "\n",
    "USE my_league_db;\n",
    "\n",
    "CREATE TABLE IF NOT EXISTS Address (\n",
    "    addressId BIGINT,\n",
    "    street STRING,\n",
    "    city STRING,\n",
    "    state STRING,\n",
    "    zipCode STRING\n",
    ");\n",
    "\n",
    "CREATE TABLE IF NOT EXISTS Venue (\n",
    "    venueId BIGINT,\n",
    "    venueName STRING,\n",
    "    addressId BIGINT,\n",
    "    fieldNumber INT\n",
    ");\n",
    "\n",
    "CREATE TABLE IF NOT EXISTS Division (\n",
    "    divisionId BIGINT,\n",
    "    divisionName STRING\n",
    ");\n",
    "\n",
    "CREATE TABLE IF NOT EXISTS Team (\n",
    "    teamId BIGINT,\n",
    "    teamName STRING,\n",
    "    divisionId BIGINT\n",
    ");\n",
    "\n",
    "CREATE TABLE IF NOT EXISTS Person (\n",
    "    byuId BIGINT,\n",
    "    firstName STRING,\n",
    "    lastName STRING,\n",
    "    email STRING,\n",
    "    phone STRING\n",
    ");\n",
    "\n",
    "CREATE TABLE IF NOT EXISTS Player (\n",
    "    playerId BIGINT,\n",
    "    byuId BIGINT,\n",
    "    teamId BIGINT\n",
    ");\n",
    "\n",
    "CREATE TABLE IF NOT EXISTS Referee (\n",
    "    refereeId BIGINT,\n",
    "    byuId BIGINT\n",
    ");\n",
    "\n",
    "CREATE TABLE IF NOT EXISTS Game (\n",
    "    gameId BIGINT,\n",
    "    divisionId BIGINT,\n",
    "    homeTeamId BIGINT,\n",
    "    awayTeamId BIGINT,\n",
    "    dateTime TIMESTAMP,\n",
    "    venueId BIGINT,\n",
    "    homeTeamRating INT,\n",
    "    awayTeamRating INT,\n",
    "    referee1Id BIGINT,\n",
    "    referee2Id BIGINT\n",
    ");"
   ]
  },
  {
   "cell_type": "code",
   "execution_count": 0,
   "metadata": {
    "application/vnd.databricks.v1+cell": {
     "cellMetadata": {
      "byteLimit": 2048000,
      "implicitDf": true,
      "rowLimit": 10000
     },
     "inputWidgets": {},
     "nuid": "44d2d2a9-4385-45c9-93a7-20455d9c70dc",
     "showTitle": false,
     "tableResultSettingsMap": {},
     "title": ""
    }
   },
   "outputs": [
    {
     "output_type": "display_data",
     "data": {
      "text/html": [
       "<style scoped>\n",
       "  .table-result-container {\n",
       "    max-height: 300px;\n",
       "    overflow: auto;\n",
       "  }\n",
       "  table, th, td {\n",
       "    border: 1px solid black;\n",
       "    border-collapse: collapse;\n",
       "  }\n",
       "  th, td {\n",
       "    padding: 5px;\n",
       "  }\n",
       "  th {\n",
       "    text-align: left;\n",
       "  }\n",
       "</style><div class='table-result-container'><table class='table-result'><thead style='background-color: white'><tr><th>database</th><th>tableName</th><th>isTemporary</th></tr></thead><tbody><tr><td>my_league_db</td><td>address</td><td>false</td></tr><tr><td>my_league_db</td><td>division</td><td>false</td></tr><tr><td>my_league_db</td><td>game</td><td>false</td></tr><tr><td>my_league_db</td><td>person</td><td>false</td></tr><tr><td>my_league_db</td><td>player</td><td>false</td></tr><tr><td>my_league_db</td><td>referee</td><td>false</td></tr><tr><td>my_league_db</td><td>team</td><td>false</td></tr><tr><td>my_league_db</td><td>venue</td><td>false</td></tr></tbody></table></div>"
      ]
     },
     "metadata": {
      "application/vnd.databricks.v1+output": {
       "addedWidgets": {},
       "aggData": [],
       "aggError": "",
       "aggOverflow": false,
       "aggSchema": [],
       "aggSeriesLimitReached": false,
       "aggType": "",
       "arguments": {},
       "columnCustomDisplayInfos": {},
       "data": [
        [
         "my_league_db",
         "address",
         false
        ],
        [
         "my_league_db",
         "division",
         false
        ],
        [
         "my_league_db",
         "game",
         false
        ],
        [
         "my_league_db",
         "person",
         false
        ],
        [
         "my_league_db",
         "player",
         false
        ],
        [
         "my_league_db",
         "referee",
         false
        ],
        [
         "my_league_db",
         "team",
         false
        ],
        [
         "my_league_db",
         "venue",
         false
        ]
       ],
       "datasetInfos": [
        {
         "name": "_sqldf",
         "schema": {
          "fields": [
           {
            "metadata": {},
            "name": "database",
            "nullable": false,
            "type": "string"
           },
           {
            "metadata": {},
            "name": "tableName",
            "nullable": false,
            "type": "string"
           },
           {
            "metadata": {},
            "name": "isTemporary",
            "nullable": false,
            "type": "boolean"
           }
          ],
          "type": "struct"
         },
         "tableIdentifier": null,
         "typeStr": "pyspark.sql.connect.dataframe.DataFrame"
        }
       ],
       "dbfsResultPath": null,
       "isJsonSchema": true,
       "metadata": {
        "createTempViewForImplicitDf": true,
        "dataframeName": "_sqldf",
        "executionCount": 13
       },
       "overflow": false,
       "plotOptions": {
        "customPlotOptions": {},
        "displayType": "table",
        "pivotAggregation": null,
        "pivotColumns": null,
        "xColumns": null,
        "yColumns": null
       },
       "removedWidgets": [],
       "schema": [
        {
         "metadata": "{}",
         "name": "database",
         "type": "\"string\""
        },
        {
         "metadata": "{}",
         "name": "tableName",
         "type": "\"string\""
        },
        {
         "metadata": "{}",
         "name": "isTemporary",
         "type": "\"boolean\""
        }
       ],
       "type": "table"
      }
     },
     "output_type": "display_data"
    }
   ],
   "source": [
    "%sql\n",
    "SHOW Tables in my_league_db;"
   ]
  },
  {
   "cell_type": "code",
   "execution_count": 0,
   "metadata": {
    "application/vnd.databricks.v1+cell": {
     "cellMetadata": {},
     "inputWidgets": {},
     "nuid": "57391817-7054-4183-9c65-6e4dd7423cfd",
     "showTitle": false,
     "tableResultSettingsMap": {},
     "title": ""
    }
   },
   "outputs": [],
   "source": []
  }
 ],
 "metadata": {
  "application/vnd.databricks.v1+notebook": {
   "computePreferences": null,
   "dashboards": [],
   "environmentMetadata": {
    "base_environment": "",
    "environment_version": "3"
   },
   "inputWidgetPreferences": null,
   "language": "python",
   "notebookMetadata": {
    "mostRecentlyExecutedCommandWithImplicitDF": {
     "commandId": 5173276850239199,
     "dataframes": [
      "_sqldf"
     ]
    },
    "pythonIndentUnit": 4
   },
   "notebookName": "CS452_AISQL_db_setup",
   "widgets": {}
  },
  "language_info": {
   "name": "python"
  }
 },
 "nbformat": 4,
 "nbformat_minor": 0
}